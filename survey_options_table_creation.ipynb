{
 "cells": [
  {
   "cell_type": "code",
   "execution_count": 25,
   "metadata": {},
   "outputs": [],
   "source": [
    "import sqlite3"
   ]
  },
  {
   "cell_type": "code",
   "execution_count": 29,
   "metadata": {},
   "outputs": [],
   "source": [
    "conn = sqlite3.connect('Resources/survey_options.db')"
   ]
  },
  {
   "cell_type": "code",
   "execution_count": 30,
   "metadata": {},
   "outputs": [],
   "source": [
    "# Create database (if it doesn't already exist)\n",
    "cursor = conn.cursor()\n",
    "cursor.execute('''\n",
    "    CREATE TABLE IF NOT EXISTS survey_options (\n",
    "        option_id INTEGER PRIMARY KEY,\n",
    "        option_name TEXT,\n",
    "        option_value INTEGER\n",
    "    )\n",
    "''')\n",
    "conn.commit()\n"
   ]
  },
  {
   "cell_type": "code",
   "execution_count": null,
   "metadata": {},
   "outputs": [],
   "source": [
    "# # Create options table (if it doesn't already exist)\n",
    "# cursor = conn.cursor()\n",
    "# cursor.execute('''\n",
    "#     CREATE TABLE IF NOT EXISTS survey_options (\n",
    "#         option_id INTEGER PRIMARY KEY,\n",
    "#         option_name TEXT,\n",
    "#         option_value INTEGER\n",
    "#     )\n",
    "# ''')\n",
    "# conn.commit()\n",
    "\n",
    "# data_to_insert = [\n",
    "#     (1, 'Always', 1),\n",
    "#     (2, 'Usually', 1),\n",
    "#     (3, 'Sometimes', 1),\n",
    "#     (4, 'Rarely', 0),\n",
    "#     (5, 'Never', 0)\n",
    "# ]\n",
    "\n",
    "# cursor.executemany('INSERT INTO survey_options VALUES (?, ?, ?)', data_to_insert)\n",
    "\n",
    "# # Commit the changes and close the connection\n",
    "# conn.commit()"
   ]
  },
  {
   "cell_type": "code",
   "execution_count": null,
   "metadata": {},
   "outputs": [],
   "source": [
    "# Create always options table (if it doesn't already exist)\n",
    "cursor = conn.cursor()\n",
    "cursor.execute('''\n",
    "    CREATE TABLE IF NOT EXISTS always_options (\n",
    "        option_id INTEGER PRIMARY KEY,\n",
    "        option_name TEXT\n",
    "    )\n",
    "''')\n",
    "\n",
    "data_to_insert = [\n",
    "    (1, 'Always'),\n",
    "    (2, 'Usually'),\n",
    "    (3, 'Sometimes'),\n",
    "    (4, 'Rarely'),\n",
    "    (5, 'Never')\n",
    "]\n",
    "\n",
    "cursor.executemany('INSERT INTO always_options VALUES (?, ?)', data_to_insert)\n",
    "\n",
    "# Commit the changes and close the connection\n",
    "conn.commit()"
   ]
  },
  {
   "cell_type": "code",
   "execution_count": null,
   "metadata": {},
   "outputs": [],
   "source": [
    "# Create easy options table (if it doesn't already exist)\n",
    "cursor = conn.cursor()\n",
    "cursor.execute('''\n",
    "    CREATE TABLE IF NOT EXISTS easy_options (\n",
    "        option_id INTEGER PRIMARY KEY,\n",
    "        option_name TEXT\n",
    "    )\n",
    "''')\n",
    "\n",
    "data_to_insert = [\n",
    "    (1, 'Very easy'),\n",
    "    (2, 'Quite easy'),\n",
    "    (3, 'Quite diffucult'),\n",
    "    (4, 'Very difficult'),\n",
    "    (5, 'Impossible')\n",
    "]\n",
    "\n",
    "cursor.executemany('INSERT INTO easy_options VALUES (?, ?)', data_to_insert)\n",
    "\n",
    "# Commit the changes and close the connection\n",
    "conn.commit()"
   ]
  },
  {
   "cell_type": "code",
   "execution_count": null,
   "metadata": {},
   "outputs": [],
   "source": [
    "# Create times options table (if it doesn't already exist)\n",
    "cursor = conn.cursor()\n",
    "cursor.execute('''\n",
    "    CREATE TABLE IF NOT EXISTS times_options (\n",
    "        option_id INTEGER PRIMARY KEY,\n",
    "        option_name TEXT\n",
    "    )\n",
    "''')\n",
    "\n",
    "data_to_insert = [\n",
    "    (1, 'Many times a day'),\n",
    "    (2, 'A few times a day'),\n",
    "    (3, 'A few times a week'),\n",
    "    (4, 'Less than once a week'),\n",
    "    (5, 'Never')\n",
    "]\n",
    "\n",
    "cursor.executemany('INSERT INTO times_options VALUES (?, ?)', data_to_insert)\n",
    "\n",
    "# Commit the changes and close the connection\n",
    "conn.commit()"
   ]
  },
  {
   "cell_type": "code",
   "execution_count": null,
   "metadata": {},
   "outputs": [],
   "source": [
    "# Create typical options table (if it doesn't already exist)\n",
    "cursor = conn.cursor()\n",
    "cursor.execute('''\n",
    "    CREATE TABLE IF NOT EXISTS typical_options (\n",
    "        option_id INTEGER PRIMARY KEY,\n",
    "        option_name TEXT\n",
    "    )\n",
    "''')\n",
    "\n",
    "data_to_insert = [\n",
    "    (1, 'Very typical'),\n",
    "    (2, 'Quite typical'),\n",
    "    (3, 'Slightly unusual'),\n",
    "    (4, 'Very unusual'),\n",
    "    (5, \"My child doesn't speak\")\n",
    "]\n",
    "\n",
    "cursor.executemany('INSERT INTO typical_options VALUES (?, ?)', data_to_insert)\n",
    "\n",
    "# Commit the changes and close the connection\n",
    "conn.commit()"
   ]
  },
  {
   "cell_type": "code",
   "execution_count": 32,
   "metadata": {},
   "outputs": [],
   "source": [
    "conn.close()"
   ]
  },
  {
   "cell_type": "code",
   "execution_count": null,
   "metadata": {},
   "outputs": [],
   "source": []
  }
 ],
 "metadata": {
  "kernelspec": {
   "display_name": "dev",
   "language": "python",
   "name": "python3"
  },
  "language_info": {
   "codemirror_mode": {
    "name": "ipython",
    "version": 3
   },
   "file_extension": ".py",
   "mimetype": "text/x-python",
   "name": "python",
   "nbconvert_exporter": "python",
   "pygments_lexer": "ipython3",
   "version": "3.10.11"
  },
  "orig_nbformat": 4
 },
 "nbformat": 4,
 "nbformat_minor": 2
}
