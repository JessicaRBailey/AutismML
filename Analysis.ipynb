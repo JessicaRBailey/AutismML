{
 "cells": [
  {
   "cell_type": "code",
   "execution_count": 6,
   "id": "a8676c96-7b08-4017-8327-eabdc68b7368",
   "metadata": {},
   "outputs": [],
   "source": [
    "from flask import jsonify, Blueprint\n",
    "import csv  # <-- Make sure to include this\n",
    "\n",
    "\n",
    "api = Blueprint('request_api', __name__)\n",
    "\n",
    "def get_blueprint():\n",
    "    \"\"\"Return the blueprint for the main app module\"\"\"\n",
    "    return api\n",
    "\n",
    "# Read exoplanet data from CSV\n",
    "def read_exoplanet_data(filename):\n",
    "    with open(filename, newline='') as csvfile:\n",
    "        return list(csv.reader(csvfile))\n",
    "\n",
    "exoplanets_list = read_exoplanet_data('Resources/Toddler Autism dataset July 2018.csv')\n",
    "columns = exoplanets_list[0]  # Assuming the first row is headers\n",
    "\n",
    "@api.route('/request', methods=['GET'])\n",
    "def get_records():\n",
    "    \"\"\"Return all exoplanet data excluding headers.\n",
    "    @return: 200: an array of all known exoplanets as a \\\n",
    "    flask/response object with application/json mimetype.\n",
    "    \"\"\"\n",
    "    return jsonify(exoplanets_list[1:])  # Return all rows excluding headers\n"
   ]
  },
  {
   "cell_type": "code",
   "execution_count": null,
   "id": "80c9cb24-1748-483f-94ba-37f394de1fcb",
   "metadata": {},
   "outputs": [
    {
     "ename": "IndentationError",
     "evalue": "expected an indented block (2663461197.py, line 21)",
     "output_type": "error",
     "traceback": [
      "\u001b[1;36m  Cell \u001b[1;32mIn[10], line 21\u001b[1;36m\u001b[0m\n\u001b[1;33m    @api.route('/request', methods=['GET'])\u001b[0m\n\u001b[1;37m    ^\u001b[0m\n\u001b[1;31mIndentationError\u001b[0m\u001b[1;31m:\u001b[0m expected an indented block\n"
     ]
    }
   ],
   "source": []
  },
  {
   "cell_type": "code",
   "execution_count": null,
   "id": "fbad10b1-6eb6-48e1-820f-41311819a16d",
   "metadata": {},
   "outputs": [],
   "source": []
  }
 ],
 "metadata": {
  "kernelspec": {
   "display_name": "Python 3 (ipykernel)",
   "language": "python",
   "name": "python3"
  },
  "language_info": {
   "codemirror_mode": {
    "name": "ipython",
    "version": 3
   },
   "file_extension": ".py",
   "mimetype": "text/x-python",
   "name": "python",
   "nbconvert_exporter": "python",
   "pygments_lexer": "ipython3",
   "version": "3.9.16"
  }
 },
 "nbformat": 4,
 "nbformat_minor": 5
}
