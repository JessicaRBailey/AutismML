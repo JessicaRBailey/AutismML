from flask import jsonify, Blueprint

api = Blueprint('request_api', __name__)

def get_blueprint():
    """Return the blueprint for the main app module"""
    return api

# Read exoplanet data from CSV
def read_exoplanet_data(filename):
    with open(filename, newline='') as csvfile:
        return list(csv.reader(csvfile))

exoplanets_list = read_exoplanet_data('exoplanetdata.csv')
columns = exoplanets_list[0]  # Assuming the first row is headers

@api.route('/request', methods=['GET'])
def get_records():
    """Return all exoplanet data excluding headers.
    @return: 200: an array of all known exoplanets as a \
    flask/response object with application/json mimetype.
    """
    return jsonify(exoplanets_list[1:])  # Return all rows excluding headers
