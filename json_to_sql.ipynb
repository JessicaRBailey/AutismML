{
 "cells": [
  {
   "cell_type": "code",
   "execution_count": 1,
   "metadata": {},
   "outputs": [],
   "source": [
    "import json\n",
    "import sqlite3"
   ]
  },
  {
   "cell_type": "code",
   "execution_count": 26,
   "metadata": {},
   "outputs": [],
   "source": [
    "    \n",
    "with open('Resources/survey_responses.json', 'r') as json_file:\n",
    "    data = json.load(json_file)"
   ]
  },
  {
   "cell_type": "code",
   "execution_count": 27,
   "metadata": {},
   "outputs": [
    {
     "name": "stdout",
     "output_type": "stream",
     "text": [
      "[{'1': 1, '2': 1, '3': 1, '4': 1, '5': 1, '6': 1, '7': 1, '8': 1, '9': 1, '10': 1, '11': '15', 'timestamp': '2023-09-26T04:34:48.813Z'}]\n"
     ]
    }
   ],
   "source": [
    "print(data)"
   ]
  },
  {
   "cell_type": "code",
   "execution_count": 28,
   "metadata": {},
   "outputs": [],
   "source": [
    "# Mapping between integer keys and column names\n",
    "column_mapping = {\n",
    "    '1': 'A1',\n",
    "    '2': 'A2',\n",
    "    '3': 'A3',\n",
    "    '4': 'A4',\n",
    "    '5': 'A5',\n",
    "    '6': 'A6',\n",
    "    '7': 'A7',\n",
    "    '8': 'A8',\n",
    "    '9': 'A9',\n",
    "    '10': 'A10',\n",
    "    '11': 'Age_Mons',\n",
    "    'timestamp': 'Timestamp'\n",
    "}\n",
    "\n"
   ]
  },
  {
   "cell_type": "code",
   "execution_count": 2,
   "metadata": {},
   "outputs": [],
   "source": [
    "conn = sqlite3.connect('Resources/survey_responses.db')"
   ]
  },
  {
   "cell_type": "code",
   "execution_count": 3,
   "metadata": {},
   "outputs": [],
   "source": [
    "# Create database (if it doesn't already exist)\n",
    "cursor = conn.cursor()\n",
    "cursor.execute('''\n",
    "    CREATE TABLE IF NOT EXISTS survey_responses (\n",
    "        A1 INTEGER,\n",
    "        A2 INTEGER,\n",
    "        A3 INTEGER,\n",
    "        A4 INTEGER,\n",
    "        A5 INTEGER,\n",
    "        A6 INTEGER,\n",
    "        A7 INTEGER,\n",
    "        A8 INTEGER,\n",
    "        A9 INTEGER,\n",
    "        A10 INTEGER,\n",
    "        Age_Mons INTEGER,\n",
    "        Timestamp TEXT,\n",
    "        Class_ASD_Traits TEXT\n",
    "    )\n",
    "''')\n",
    "conn.commit()\n"
   ]
  },
  {
   "cell_type": "code",
   "execution_count": 4,
   "metadata": {},
   "outputs": [],
   "source": [
    "cursor.execute('''\n",
    "    ALTER TABLE survey_responses\n",
    "    ADD COLUMN prediction REAL\n",
    "''')\n",
    "conn.commit()"
   ]
  },
  {
   "cell_type": "code",
   "execution_count": 31,
   "metadata": {},
   "outputs": [],
   "source": [
    "# Find new survey responses in the json file and add them to the database\n",
    "new_responses = [\n",
    "    {...},  \n",
    "    {...},  \n",
    "    # ...\n",
    "]\n",
    "# new_responses\n",
    "for new_response in data:\n",
    "    # Check if this response already exists in the database\n",
    "    cursor = conn.cursor()\n",
    "    cursor.execute('SELECT COUNT(*) FROM survey_responses WHERE Timestamp = ?', (new_response['timestamp'],))\n",
    "    result = cursor.fetchone()\n",
    "    response_exists = result[0] > 0  # Check if a response with the same timestamp exists\n",
    "\n",
    "    if not response_exists:\n",
    "        # Map integer keys to column names in your database and insert the new response\n",
    "        mapped_data = {}\n",
    "        for key, value in new_response.items():\n",
    "            if key in column_mapping:\n",
    "                mapped_data[column_mapping[key]] = value\n",
    "\n",
    "        # Build the INSERT INTO statement dynamically\n",
    "        columns = ', '.join(mapped_data.keys())\n",
    "        placeholders = ', '.join(['?'] * len(mapped_data))\n",
    "        insert_sql = f'INSERT INTO survey_responses ({columns}) VALUES ({placeholders})'\n",
    "\n",
    "        # Execute the SQL statement\n",
    "        cursor.execute(insert_sql, tuple(mapped_data.values()))\n",
    "        conn.commit()"
   ]
  },
  {
   "cell_type": "code",
   "execution_count": 5,
   "metadata": {},
   "outputs": [],
   "source": [
    "conn.close()"
   ]
  },
  {
   "cell_type": "code",
   "execution_count": null,
   "metadata": {},
   "outputs": [],
   "source": []
  }
 ],
 "metadata": {
  "kernelspec": {
   "display_name": "dev",
   "language": "python",
   "name": "python3"
  },
  "language_info": {
   "codemirror_mode": {
    "name": "ipython",
    "version": 3
   },
   "file_extension": ".py",
   "mimetype": "text/x-python",
   "name": "python",
   "nbconvert_exporter": "python",
   "pygments_lexer": "ipython3",
   "version": "3.10.11"
  },
  "orig_nbformat": 4
 },
 "nbformat": 4,
 "nbformat_minor": 2
}
