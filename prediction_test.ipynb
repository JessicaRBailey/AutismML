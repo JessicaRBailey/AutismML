{
 "cells": [
  {
   "cell_type": "code",
   "execution_count": 10,
   "metadata": {},
   "outputs": [],
   "source": [
    "# Import the dependencies.\n",
    "import os\n",
    "import numpy as np\n",
    "import sqlite3\n",
    "import tensorflow as tf\n",
    "from keras.models import load_model\n",
    "from sklearn.preprocessing import StandardScaler\n",
    "import joblib\n",
    "import json\n",
    "import datetime\n",
    "from flask import Flask, jsonify, request, g, render_template, redirect, url_for\n"
   ]
  },
  {
   "cell_type": "code",
   "execution_count": 11,
   "metadata": {},
   "outputs": [],
   "source": [
    "# Load the scaler\n",
    "scaler = joblib.load('Resources/scaler.joblib')\n",
    "\n",
    "# Load the model\n",
    "model = tf.keras.models.load_model('Resources/QChatNN_for_new_survey.h5')"
   ]
  },
  {
   "cell_type": "code",
   "execution_count": 12,
   "metadata": {},
   "outputs": [
    {
     "name": "stderr",
     "output_type": "stream",
     "text": [
      "c:\\Users\\Jessi\\anaconda3\\envs\\dev\\lib\\site-packages\\sklearn\\base.py:409: UserWarning: X does not have valid feature names, but StandardScaler was fitted with feature names\n",
      "  warnings.warn(\n"
     ]
    },
    {
     "name": "stdout",
     "output_type": "stream",
     "text": [
      "1/1 [==============================] - 11s 11s/step\n"
     ]
    }
   ],
   "source": [
    "\n",
    "# Connect to the SQLite database\n",
    "conn = sqlite3.connect('Resources/survey_responses.db')\n",
    "cursor = conn.cursor()\n",
    "\n",
    "# Query to retrieve the last entry based on the 'Timestamp' column\n",
    "cursor.execute('SELECT A1, A2, A3, A4, A5, A6, A7, A8, A9, A10, Age_Mons FROM survey_responses ORDER BY Timestamp DESC LIMIT 1')\n",
    "\n",
    "# Fetch the result (should be one row, the last entry)\n",
    "last_entry = cursor.fetchone()\n",
    "\n",
    "# Close the database connection\n",
    "conn.close()\n",
    "\n",
    "input_data = last_entry\n",
    "\n",
    "# Convert the input data to a NumPy array\n",
    "input_data = np.array(input_data)\n",
    "\n",
    "# Reshape the input data to be 2D (1 row and n_features columns)\n",
    "input_data = input_data.reshape(1, -1)  # -1 automatically computes the number of columns\n",
    "\n",
    "# Use the loaded StandardScaler to scale the input data\n",
    "input_data_scaled = scaler.transform(input_data)\n",
    "\n",
    "# Make predictions using the model\n",
    "predictions = model.predict(input_data_scaled)\n",
    "\n"
   ]
  },
  {
   "cell_type": "code",
   "execution_count": 13,
   "metadata": {},
   "outputs": [
    {
     "data": {
      "text/plain": [
       "(1, 1, 1, 1, 1, 1, 1, 1, 1, 1, 15)"
      ]
     },
     "execution_count": 13,
     "metadata": {},
     "output_type": "execute_result"
    }
   ],
   "source": [
    "last_entry"
   ]
  },
  {
   "cell_type": "code",
   "execution_count": 14,
   "metadata": {},
   "outputs": [
    {
     "data": {
      "text/plain": [
       "array([[0.9999996]], dtype=float32)"
      ]
     },
     "execution_count": 14,
     "metadata": {},
     "output_type": "execute_result"
    }
   ],
   "source": [
    "predictions"
   ]
  },
  {
   "cell_type": "code",
   "execution_count": null,
   "metadata": {},
   "outputs": [],
   "source": []
  }
 ],
 "metadata": {
  "kernelspec": {
   "display_name": "dev",
   "language": "python",
   "name": "python3"
  },
  "language_info": {
   "codemirror_mode": {
    "name": "ipython",
    "version": 3
   },
   "file_extension": ".py",
   "mimetype": "text/x-python",
   "name": "python",
   "nbconvert_exporter": "python",
   "pygments_lexer": "ipython3",
   "version": "3.10.11"
  },
  "orig_nbformat": 4
 },
 "nbformat": 4,
 "nbformat_minor": 2
}
